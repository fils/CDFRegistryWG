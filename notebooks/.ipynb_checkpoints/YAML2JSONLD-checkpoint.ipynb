{
 "cells": [
  {
   "cell_type": "code",
   "execution_count": 1,
   "metadata": {
    "collapsed": false
   },
   "outputs": [],
   "source": [
    "import yaml\n",
    "\n",
    "y = yaml.load(\"\"\"\n",
    "    name: Vorlin Laruknuzum\n",
    "    class: Priest\n",
    "    inventory:\n",
    "    - a Holy Book of Prayers (Words of Wisdom)\n",
    "    - an Azure Potion of Cure Light Wounds\n",
    "    - a Silver Wand of Wonder\n",
    "    \"\"\")\n",
    "\n"
   ]
  },
  {
   "cell_type": "code",
   "execution_count": 2,
   "metadata": {
    "collapsed": false
   },
   "outputs": [
    {
     "name": "stdout",
     "output_type": "stream",
     "text": [
      "{'class': 'Priest', 'inventory': ['a Holy Book of Prayers (Words of Wisdom)', 'an Azure Potion of Cure Light Wounds', 'a Silver Wand of Wonder'], 'name': 'Vorlin Laruknuzum'}\n",
      "{\n",
      "  \"@context\": {\n",
      "    \"image\": {\n",
      "      \"@id\": \"http://schema.org/image\", \n",
      "      \"@type\": \"@id\"\n",
      "    }, \n",
      "    \"homepage\": {\n",
      "      \"@id\": \"http://schema.org/url\", \n",
      "      \"@type\": \"@id\"\n",
      "    }, \n",
      "    \"name\": \"http://schema.org/name\"\n",
      "  }, \n",
      "  \"image\": \"http://manu.sporny.org/images/manu.png\", \n",
      "  \"homepage\": \"http://manu.sporny.org/\", \n",
      "  \"name\": \"Vorlin Laruknuzum\"\n",
      "}\n"
     ]
    }
   ],
   "source": [
    "from pyld import jsonld\n",
    "import json\n",
    "\n",
    "print y\n",
    "\n",
    "doc = {\n",
    "    \"http://schema.org/name\": y[\"name\"],\n",
    "    \"http://schema.org/url\": {\"@id\": \"http://manu.sporny.org/\"},\n",
    "    \"http://schema.org/image\": {\"@id\": \"http://manu.sporny.org/images/manu.png\"}\n",
    "}\n",
    "\n",
    "context = {\n",
    "    \"name\": \"http://schema.org/name\",\n",
    "    \"homepage\": {\"@id\": \"http://schema.org/url\", \"@type\": \"@id\"},\n",
    "    \"image\": {\"@id\": \"http://schema.org/image\", \"@type\": \"@id\"}\n",
    "}\n",
    "\n",
    "# compact a document according to a particular context\n",
    "# see: http://json-ld.org/spec/latest/json-ld/#compacted-document-form\n",
    "compacted = jsonld.compact(doc, context)\n",
    "\n",
    "print(json.dumps(compacted, indent=2))"
   ]
  },
  {
   "cell_type": "code",
   "execution_count": null,
   "metadata": {
    "collapsed": true
   },
   "outputs": [],
   "source": []
  }
 ],
 "metadata": {
  "kernelspec": {
   "display_name": "Python 2",
   "language": "python",
   "name": "python2"
  },
  "language_info": {
   "codemirror_mode": {
    "name": "ipython",
    "version": 2
   },
   "file_extension": ".py",
   "mimetype": "text/x-python",
   "name": "python",
   "nbconvert_exporter": "python",
   "pygments_lexer": "ipython2",
   "version": "2.7.11"
  }
 },
 "nbformat": 4,
 "nbformat_minor": 0
}
