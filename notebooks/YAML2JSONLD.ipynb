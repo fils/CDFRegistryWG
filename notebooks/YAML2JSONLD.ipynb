{
 "cells": [
  {
   "cell_type": "markdown",
   "metadata": {},
   "source": [
    "# X To JSON-LD\n",
    "\n",
    "### About\n",
    "This notebook is just an example of some exploring of converting things like YAML or TOML to JSON-LD.  This is a simple notebook but it's easy to do in Go (https://github.com/OpenCoreData/ocdGarden/tree/master/JSON-goLD/YAML2JSONLD) or other languages. Obviously YAML and TOML are not semantic.  However, it is possible to declare the terms in something like YAML and then map by a convention into JSON-LD and a defined semantic.   For cases of similar terms across vocabulars something like a \n",
    "ns-term pattern would be needed.\n",
    "\n",
    "## Why\n",
    "A key element of the success of the \"self publishing\" approach will be to provide an easy path to the publishing of this type of structured data.  Facilities will need to:\n",
    "\n",
    "* Be able to generate the JSON-LD, preferably based off existing structured data like DataCite or other\n",
    "* Be able to integrate with their web publishing platforms like Drupal, Flask, custome code or others.\n",
    "\n",
    "The difficulty will range based on the level facilities publish.  For purposes of discussion these can take many levels.  \n",
    "\n",
    "1. Basic metadata about the facility such as contact points and service/search end points\n",
    "2. A \"re3\" profile that involves publishing enough metadata to meet the minimum field requirements for re3data\n",
    "3. All of the above and also exposing one or more spatial and time querries following GeoWS or OpenSearch URL patterns.\n",
    "4. All of the above and also exposing at some of the data catalog and or data set holdings of the facility in connected JSON-LD documents\n",
    "5. All of the above but scoping all data catalog and or data set holdings of the facility"
   ]
  },
  {
   "cell_type": "code",
   "execution_count": 3,
   "metadata": {
    "collapsed": false
   },
   "outputs": [],
   "source": [
    "import yaml\n",
    "\n",
    "y = yaml.load(\"\"\"\n",
    "    name: BCO-DMO\n",
    "    url: http://www.bco-dmo.org\n",
    "    contactPoint:\n",
    "        name: Adam Shepherd\n",
    "        email: theman@whoi.edu\n",
    "    \"\"\")"
   ]
  },
  {
   "cell_type": "code",
   "execution_count": 4,
   "metadata": {
    "collapsed": false
   },
   "outputs": [
    {
     "name": "stdout",
     "output_type": "stream",
     "text": [
      "{\n",
      "  \"url\": \"http://www.bco-dmo.org\", \n",
      "  \"@context\": \"http://schema.org/\", \n",
      "  \"contactPoint\": {\n",
      "    \"name\": \"Adam Shepherd\"\n",
      "  }, \n",
      "  \"name\": \"BCO-DMO\"\n",
      "}\n"
     ]
    }
   ],
   "source": [
    "from pyld import jsonld\n",
    "import json\n",
    "\n",
    "# {\n",
    "#     \"@context\": \"http://schema.org/\",\n",
    "#     \"@type\": \"Organization\",\n",
    "#     \"name\": \"R2R\",\n",
    "#     \"contactPoint\": {\n",
    "#         \"@type\": \"ContactPoint\",\n",
    "#         \"name\": \"Bob Arko\",\n",
    "#         \"email\": \"nemo@nobody.com\",\n",
    "#         \"url\": \"http://foo.com\",\n",
    "#         \"contactType\": \"technical support\"\n",
    "#     },\n",
    "#   \"url\": \"http://www.rvdata.us\"\n",
    "# }\n",
    "\n",
    "doc = {\n",
    "    \"http://schema.org/name\": y[\"name\"],\n",
    "    \"http://schema.org/url\": {\"@id\": y[\"url\"]},\n",
    "    \"http://schema.org/contactPoint\": {\n",
    "            \"http://schema.org/name\" : y[\"contactPoint\"][\"name\"]\n",
    "        }\n",
    "     }\n",
    "\n",
    "context = \"http://schema.org/\"\n",
    "# context = {\n",
    "#     \"name\": \"http://schema.org/name\",\n",
    "#     \"homepage\": {\"@id\": \"http://schema.org/url\", \"@type\": \"@id\"},\n",
    "#     \"image\": {\"@id\": \"http://schema.org/image\", \"@type\": \"@id\"}\n",
    "# }\n",
    "\n",
    "# compact a document according to a particular context\n",
    "# see: http://json-ld.org/spec/latest/json-ld/#compacted-document-form\n",
    "compacted = jsonld.compact(doc, context)\n",
    "\n",
    "print(json.dumps(compacted, indent=2))"
   ]
  },
  {
   "cell_type": "code",
   "execution_count": 36,
   "metadata": {
    "collapsed": true
   },
   "outputs": [],
   "source": [
    "dc = \"\"\"<?xml version=\"1.0\" encoding=\"UTF-8\"?>\n",
    "<resource xsi:schemaLocation=\"http://datacite.org/schema/kernel-3 http://schema.datacite.org/meta/kernel-3/metadata.xsd\" xmlns=\"http://datacite.org/schema/kernel-3\" xmlns:xsi=\"http://www.w3.org/2001/XMLSchema-instance\">\n",
    "\t<identifier identifierType=\"DOI\">(:tba)</identifier>\n",
    "\t<creators>\n",
    "\t\t<creator>\n",
    "\t\t\t<creatorName>Fosmire, Michael</creatorName>\n",
    "\t\t</creator>\n",
    "\t\t<creator>\n",
    "\t\t\t<creatorName>Wertz, Ruth</creatorName>\n",
    "\t\t</creator>\n",
    "\t\t<creator>\n",
    "\t\t\t<creatorName>Purzer, Senay</creatorName>\n",
    "\t\t</creator>\n",
    "\t</creators>\n",
    "\t<titles>\n",
    "\t\t<title>Critical Engineering Literacy Test (CELT)</title>\n",
    "\t</titles>\n",
    "\t<publisher>Purdue University Research Repository (PURR)</publisher>\n",
    "\t<publicationYear>2013</publicationYear>\n",
    "\t<subjects>\n",
    "\t\t<subject>Assessment</subject>\n",
    "\t\t<subject>Information Literacy</subject>\n",
    "\t\t<subject>Engineering</subject>\n",
    "\t\t<subject>Undergraduate Students</subject>\n",
    "\t\t<subject>CELT</subject>\n",
    "\t\t<subject>Purdue University</subject>\n",
    "\t</subjects>\n",
    "\t<language>eng</language>\n",
    "\t<resourceType resourceTypeGeneral=\"Dataset\">Dataset</resourceType>\n",
    "\t<version>1</version>\n",
    "\t<descriptions>\n",
    "\t\t<description descriptionType=\"Abstract\">We developed an instrument, Critical Engineering Literacy Test (CELT), which is a multiple choice instrument designed to measure undergraduate students’ scientific and information literacy skills. It requires students to first read a technical memo and, based on the memo’s arguments, answer eight multiple choice and six open-ended response questions. We collected data from 143 first-year engineering students and conducted an item analysis. The KR-20 reliability of the instrument was .39. Item difficulties ranged between .17 to .83. The results indicate low reliability index but acceptable levels of item difficulties and item discrimination indices. Students were most challenged when answering items measuring scientific and mathematical literacy (i.e., identifying incorrect information).\n",
    "\t</description>\n",
    "\t</descriptions>\n",
    "</resource>\n",
    "\"\"\""
   ]
  },
  {
   "cell_type": "code",
   "execution_count": 50,
   "metadata": {
    "collapsed": false
   },
   "outputs": [
    {
     "name": "stdout",
     "output_type": "stream",
     "text": [
      "{http://datacite.org/schema/kernel-3}resource\n",
      "Purdue University Research Repository (PURR)\n"
     ]
    }
   ],
   "source": [
    "import xml.etree.ElementTree as ET\n",
    "\n",
    "# Just want to see I can pull items from the tree...\n",
    "# mapping to JSON-LD is easy then (tedious...   but easy)\n",
    "\n",
    "root = ET.fromstring(dc)\n",
    "print root.tag\n",
    "\n",
    "# for child in root:\n",
    "#     print child.tag, child.attrib\n",
    "\n",
    "pub = root.find('{http://datacite.org/schema/kernel-3}publisher')\n",
    "print pub.text\n"
   ]
  },
  {
   "cell_type": "code",
   "execution_count": null,
   "metadata": {
    "collapsed": true
   },
   "outputs": [],
   "source": []
  }
 ],
 "metadata": {
  "kernelspec": {
   "display_name": "Python 2",
   "language": "python",
   "name": "python2"
  },
  "language_info": {
   "codemirror_mode": {
    "name": "ipython",
    "version": 2
   },
   "file_extension": ".py",
   "mimetype": "text/x-python",
   "name": "python",
   "nbconvert_exporter": "python",
   "pygments_lexer": "ipython2",
   "version": "2.7.11"
  }
 },
 "nbformat": 4,
 "nbformat_minor": 0
}
